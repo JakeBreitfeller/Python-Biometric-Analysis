{
 "cells": [
  {
   "cell_type": "markdown",
   "metadata": {},
   "source": [
    "## Biometric Data Analysis\n",
    "#### Jake Breitfeller\n",
    "#### The goal of this project is to create a simple function that can take average accelerant data from smart device biometric hardware and make a prediction about the type of task which is being performed "
   ]
  },
  {
   "cell_type": "code",
   "execution_count": 88,
   "metadata": {},
   "outputs": [],
   "source": [
    "import numpy as np\n",
    "import pandas as pd\n",
    "import matplotlib.pyplot as plt\n",
    "from matplotlib import colors\n",
    "import matplotlib.cm as cm\n",
    "import seaborn as sns"
   ]
  },
  {
   "cell_type": "markdown",
   "metadata": {},
   "source": [
    "#### The two hardware devices used to calculate accelerant data are the Accelerometer and the Gyroscope\n",
    "#### Smart phones and smart watches are used to gather this data so there are 4 different groups of data to gather from"
   ]
  },
  {
   "cell_type": "code",
   "execution_count": 89,
   "metadata": {},
   "outputs": [],
   "source": [
    "##Smart Phone Accelerometer Data\n",
    "phoneaccel0 = pd.read_csv(\"data_1600_accel_phone.csv\")\n",
    "phoneaccel1 = pd.read_csv(\"data_1601_accel_phone.csv\")\n",
    "phoneaccel2 = pd.read_csv(\"data_1602_accel_phone.csv\")\n",
    "phoneaccel3 = pd.read_csv(\"data_1603_accel_phone.csv\")\n",
    "phoneaccel4 = pd.read_csv(\"data_1604_accel_phone.csv\")"
   ]
  },
  {
   "cell_type": "code",
   "execution_count": 90,
   "metadata": {},
   "outputs": [],
   "source": [
    "##Smart Phone Gyroscope Data\n",
    "phonegyro0 = pd.read_csv(\"data_1600_gyro_phone.csv\")\n",
    "phonegyro1 = pd.read_csv(\"data_1601_gyro_phone.csv\")\n",
    "phonegyro2 = pd.read_csv(\"data_1602_gyro_phone.csv\")\n",
    "phonegyro3 = pd.read_csv(\"data_1603_gyro_phone.csv\")\n",
    "phonegyro4 = pd.read_csv(\"data_1604_gyro_phone.csv\")"
   ]
  },
  {
   "cell_type": "code",
   "execution_count": 91,
   "metadata": {},
   "outputs": [],
   "source": [
    "##Smart Watch Accelerometer Data\n",
    "watchaccel0 = pd.read_csv(\"data_1600_accel_watch.csv\")\n",
    "watchaccel1 = pd.read_csv(\"data_1601_accel_watch.csv\")\n",
    "watchaccel2 = pd.read_csv(\"data_1602_accel_watch.csv\")\n",
    "watchaccel3 = pd.read_csv(\"data_1603_accel_watch.csv\")\n",
    "watchaccel4 = pd.read_csv(\"data_1604_accel_watch.csv\")"
   ]
  },
  {
   "cell_type": "code",
   "execution_count": 92,
   "metadata": {},
   "outputs": [],
   "source": [
    "##Smart Watch Gyroscope Data\n",
    "watchgyro0 = pd.read_csv(\"data_1600_gyro_watch.csv\")\n",
    "watchgyro1 = pd.read_csv(\"data_1601_gyro_watch.csv\")\n",
    "watchgyro2 = pd.read_csv(\"data_1602_gyro_watch.csv\")\n",
    "watchgyro3 = pd.read_csv(\"data_1603_gyro_watch.csv\")\n",
    "watchgyro4 = pd.read_csv(\"data_1604_gyro_watch.csv\")"
   ]
  },
  {
   "cell_type": "markdown",
   "metadata": {},
   "source": [
    "#### The data from these five subjects is combined so the machine learning programs can work with data from a specific biometric device or the combined data from all of the devices\n",
    "#### The data is also sliced to isolate the accelerant data which is the main statistic being measured"
   ]
  },
  {
   "cell_type": "code",
   "execution_count": 93,
   "metadata": {},
   "outputs": [],
   "source": [
    "mergephoneaccel = [phoneaccel0,phoneaccel1,phoneaccel2,phoneaccel3,phoneaccel4]\n",
    "phoneacceldata = pd.concat(mergephoneaccel)\n",
    "phone_accel = phoneacceldata[['ACTIVITY','RESULTANT']].copy()\n",
    "\n",
    "mergephonegyro = [phonegyro0,phonegyro1,phonegyro2,phonegyro3,phonegyro4]\n",
    "phonegyrodata = pd.concat(mergephonegyro)\n",
    "phone_gyro = phonegyrodata[['ACTIVITY','RESULTANT']].copy()\n",
    "\n",
    "mergewatchaccel = [watchaccel0,watchaccel1,watchaccel2,watchaccel3]\n",
    "watchacceldata = pd.concat(mergewatchaccel)\n",
    "watch_accel = watchacceldata[['ACTIVITY','RESULTANT']].copy()\n",
    "\n",
    "mergewatchgyro = [watchgyro0,watchgyro1,watchgyro2,watchgyro3]\n",
    "watchgyrodata = pd.concat(mergewatchgyro)\n",
    "watch_gyro = watchgyrodata[['ACTIVITY','RESULTANT']].copy()\n",
    "\n",
    "merged = [phoneacceldata,phonegyrodata,watchacceldata,watchgyrodata]\n",
    "combinedaccelgyroset = pd.concat(merged)\n",
    "combined_data = combinedaccelgyroset[['ACTIVITY','RESULTANT']].copy()"
   ]
  },
  {
   "cell_type": "code",
   "execution_count": 94,
   "metadata": {},
   "outputs": [],
   "source": [
    "## UCI provided the following key to relate each activity key \n",
    "## with the respective activity being performed by the subject\n",
    "\n",
    "##walking = A = 1\n",
    "##jogging = B = 2\n",
    "##stairs = C = 3\n",
    "##sitting = D = 4\n",
    "##standing = E = 5\n",
    "##typing = F = 6\n",
    "##teeth = G = 7\n",
    "##soup = H = 8\n",
    "##chips = I = 9\n",
    "##pasta = J = 10\n",
    "##drinking = K = 11\n",
    "##sandwich = L = 12\n",
    "##kicking = M = 13\n",
    "##catch = O = 14\n",
    "##dribbling = P = 15\n",
    "##writing = Q = 16\n",
    "##clapping = R = 17\n",
    "##folding = S = 18"
   ]
  },
  {
   "cell_type": "markdown",
   "metadata": {},
   "source": [
    "#### These four slides apply the numbers in the key above to activites so KMeans can read the data"
   ]
  },
  {
   "cell_type": "code",
   "execution_count": 95,
   "metadata": {},
   "outputs": [
    {
     "data": {
      "text/html": [
       "<div>\n",
       "<style scoped>\n",
       "    .dataframe tbody tr th:only-of-type {\n",
       "        vertical-align: middle;\n",
       "    }\n",
       "\n",
       "    .dataframe tbody tr th {\n",
       "        vertical-align: top;\n",
       "    }\n",
       "\n",
       "    .dataframe thead th {\n",
       "        text-align: right;\n",
       "    }\n",
       "</style>\n",
       "<table border=\"1\" class=\"dataframe\">\n",
       "  <thead>\n",
       "    <tr style=\"text-align: right;\">\n",
       "      <th></th>\n",
       "      <th>ACTIVITY</th>\n",
       "      <th>RESULTANT</th>\n",
       "    </tr>\n",
       "  </thead>\n",
       "  <tbody>\n",
       "    <tr>\n",
       "      <th>0</th>\n",
       "      <td>1</td>\n",
       "      <td>10.05180</td>\n",
       "    </tr>\n",
       "    <tr>\n",
       "      <th>1</th>\n",
       "      <td>1</td>\n",
       "      <td>10.11710</td>\n",
       "    </tr>\n",
       "    <tr>\n",
       "      <th>2</th>\n",
       "      <td>1</td>\n",
       "      <td>9.98384</td>\n",
       "    </tr>\n",
       "    <tr>\n",
       "      <th>3</th>\n",
       "      <td>1</td>\n",
       "      <td>10.10600</td>\n",
       "    </tr>\n",
       "    <tr>\n",
       "      <th>4</th>\n",
       "      <td>1</td>\n",
       "      <td>10.05210</td>\n",
       "    </tr>\n",
       "    <tr>\n",
       "      <th>...</th>\n",
       "      <td>...</td>\n",
       "      <td>...</td>\n",
       "    </tr>\n",
       "    <tr>\n",
       "      <th>316</th>\n",
       "      <td>18</td>\n",
       "      <td>9.77913</td>\n",
       "    </tr>\n",
       "    <tr>\n",
       "      <th>317</th>\n",
       "      <td>18</td>\n",
       "      <td>9.79550</td>\n",
       "    </tr>\n",
       "    <tr>\n",
       "      <th>318</th>\n",
       "      <td>18</td>\n",
       "      <td>9.76903</td>\n",
       "    </tr>\n",
       "    <tr>\n",
       "      <th>319</th>\n",
       "      <td>18</td>\n",
       "      <td>9.80912</td>\n",
       "    </tr>\n",
       "    <tr>\n",
       "      <th>320</th>\n",
       "      <td>18</td>\n",
       "      <td>9.73648</td>\n",
       "    </tr>\n",
       "  </tbody>\n",
       "</table>\n",
       "<p>1882 rows × 2 columns</p>\n",
       "</div>"
      ],
      "text/plain": [
       "     ACTIVITY  RESULTANT\n",
       "0           1   10.05180\n",
       "1           1   10.11710\n",
       "2           1    9.98384\n",
       "3           1   10.10600\n",
       "4           1   10.05210\n",
       "..        ...        ...\n",
       "316        18    9.77913\n",
       "317        18    9.79550\n",
       "318        18    9.76903\n",
       "319        18    9.80912\n",
       "320        18    9.73648\n",
       "\n",
       "[1882 rows x 2 columns]"
      ]
     },
     "execution_count": 95,
     "metadata": {},
     "output_type": "execute_result"
    }
   ],
   "source": [
    "phone_accel.replace(['A','B','C','D','E','F','G','H','I','J','K','L','M','O','P','Q','R','S']\n",
    "                      ,[1,2,3,4,5,6,7,8,9,10,11,12,13,14,15,16,17,18])"
   ]
  },
  {
   "cell_type": "code",
   "execution_count": 96,
   "metadata": {},
   "outputs": [
    {
     "data": {
      "text/html": [
       "<div>\n",
       "<style scoped>\n",
       "    .dataframe tbody tr th:only-of-type {\n",
       "        vertical-align: middle;\n",
       "    }\n",
       "\n",
       "    .dataframe tbody tr th {\n",
       "        vertical-align: top;\n",
       "    }\n",
       "\n",
       "    .dataframe thead th {\n",
       "        text-align: right;\n",
       "    }\n",
       "</style>\n",
       "<table border=\"1\" class=\"dataframe\">\n",
       "  <thead>\n",
       "    <tr style=\"text-align: right;\">\n",
       "      <th></th>\n",
       "      <th>ACTIVITY</th>\n",
       "      <th>RESULTANT</th>\n",
       "    </tr>\n",
       "  </thead>\n",
       "  <tbody>\n",
       "    <tr>\n",
       "      <th>0</th>\n",
       "      <td>1</td>\n",
       "      <td>1.080990</td>\n",
       "    </tr>\n",
       "    <tr>\n",
       "      <th>1</th>\n",
       "      <td>1</td>\n",
       "      <td>1.116030</td>\n",
       "    </tr>\n",
       "    <tr>\n",
       "      <th>2</th>\n",
       "      <td>1</td>\n",
       "      <td>1.119920</td>\n",
       "    </tr>\n",
       "    <tr>\n",
       "      <th>3</th>\n",
       "      <td>1</td>\n",
       "      <td>1.073060</td>\n",
       "    </tr>\n",
       "    <tr>\n",
       "      <th>4</th>\n",
       "      <td>1</td>\n",
       "      <td>0.973460</td>\n",
       "    </tr>\n",
       "    <tr>\n",
       "      <th>...</th>\n",
       "      <td>...</td>\n",
       "      <td>...</td>\n",
       "    </tr>\n",
       "    <tr>\n",
       "      <th>316</th>\n",
       "      <td>18</td>\n",
       "      <td>0.168049</td>\n",
       "    </tr>\n",
       "    <tr>\n",
       "      <th>317</th>\n",
       "      <td>18</td>\n",
       "      <td>0.175882</td>\n",
       "    </tr>\n",
       "    <tr>\n",
       "      <th>318</th>\n",
       "      <td>18</td>\n",
       "      <td>0.253770</td>\n",
       "    </tr>\n",
       "    <tr>\n",
       "      <th>319</th>\n",
       "      <td>18</td>\n",
       "      <td>0.154717</td>\n",
       "    </tr>\n",
       "    <tr>\n",
       "      <th>320</th>\n",
       "      <td>18</td>\n",
       "      <td>0.143623</td>\n",
       "    </tr>\n",
       "  </tbody>\n",
       "</table>\n",
       "<p>1773 rows × 2 columns</p>\n",
       "</div>"
      ],
      "text/plain": [
       "     ACTIVITY  RESULTANT\n",
       "0           1   1.080990\n",
       "1           1   1.116030\n",
       "2           1   1.119920\n",
       "3           1   1.073060\n",
       "4           1   0.973460\n",
       "..        ...        ...\n",
       "316        18   0.168049\n",
       "317        18   0.175882\n",
       "318        18   0.253770\n",
       "319        18   0.154717\n",
       "320        18   0.143623\n",
       "\n",
       "[1773 rows x 2 columns]"
      ]
     },
     "execution_count": 96,
     "metadata": {},
     "output_type": "execute_result"
    }
   ],
   "source": [
    "phone_gyro.replace(['A','B','C','D','E','F','G','H','I','J','K','L','M','O','P','Q','R','S']\n",
    "                      ,[1,2,3,4,5,6,7,8,9,10,11,12,13,14,15,16,17,18])"
   ]
  },
  {
   "cell_type": "code",
   "execution_count": 97,
   "metadata": {},
   "outputs": [
    {
     "data": {
      "text/html": [
       "<div>\n",
       "<style scoped>\n",
       "    .dataframe tbody tr th:only-of-type {\n",
       "        vertical-align: middle;\n",
       "    }\n",
       "\n",
       "    .dataframe tbody tr th {\n",
       "        vertical-align: top;\n",
       "    }\n",
       "\n",
       "    .dataframe thead th {\n",
       "        text-align: right;\n",
       "    }\n",
       "</style>\n",
       "<table border=\"1\" class=\"dataframe\">\n",
       "  <thead>\n",
       "    <tr style=\"text-align: right;\">\n",
       "      <th></th>\n",
       "      <th>ACTIVITY</th>\n",
       "      <th>RESULTANT</th>\n",
       "    </tr>\n",
       "  </thead>\n",
       "  <tbody>\n",
       "    <tr>\n",
       "      <th>0</th>\n",
       "      <td>1</td>\n",
       "      <td>12.7783</td>\n",
       "    </tr>\n",
       "    <tr>\n",
       "      <th>1</th>\n",
       "      <td>1</td>\n",
       "      <td>12.8712</td>\n",
       "    </tr>\n",
       "    <tr>\n",
       "      <th>2</th>\n",
       "      <td>1</td>\n",
       "      <td>12.5949</td>\n",
       "    </tr>\n",
       "    <tr>\n",
       "      <th>3</th>\n",
       "      <td>1</td>\n",
       "      <td>12.3521</td>\n",
       "    </tr>\n",
       "    <tr>\n",
       "      <th>4</th>\n",
       "      <td>1</td>\n",
       "      <td>12.4168</td>\n",
       "    </tr>\n",
       "    <tr>\n",
       "      <th>...</th>\n",
       "      <td>...</td>\n",
       "      <td>...</td>\n",
       "    </tr>\n",
       "    <tr>\n",
       "      <th>319</th>\n",
       "      <td>18</td>\n",
       "      <td>10.7500</td>\n",
       "    </tr>\n",
       "    <tr>\n",
       "      <th>320</th>\n",
       "      <td>18</td>\n",
       "      <td>10.9811</td>\n",
       "    </tr>\n",
       "    <tr>\n",
       "      <th>321</th>\n",
       "      <td>18</td>\n",
       "      <td>10.9130</td>\n",
       "    </tr>\n",
       "    <tr>\n",
       "      <th>322</th>\n",
       "      <td>18</td>\n",
       "      <td>11.1360</td>\n",
       "    </tr>\n",
       "    <tr>\n",
       "      <th>323</th>\n",
       "      <td>18</td>\n",
       "      <td>10.8265</td>\n",
       "    </tr>\n",
       "  </tbody>\n",
       "</table>\n",
       "<p>1299 rows × 2 columns</p>\n",
       "</div>"
      ],
      "text/plain": [
       "     ACTIVITY  RESULTANT\n",
       "0           1    12.7783\n",
       "1           1    12.8712\n",
       "2           1    12.5949\n",
       "3           1    12.3521\n",
       "4           1    12.4168\n",
       "..        ...        ...\n",
       "319        18    10.7500\n",
       "320        18    10.9811\n",
       "321        18    10.9130\n",
       "322        18    11.1360\n",
       "323        18    10.8265\n",
       "\n",
       "[1299 rows x 2 columns]"
      ]
     },
     "execution_count": 97,
     "metadata": {},
     "output_type": "execute_result"
    }
   ],
   "source": [
    "watch_accel.replace(['A','B','C','D','E','F','G','H','I','J','K','L','M','O','P','Q','R','S']\n",
    "                      ,[1,2,3,4,5,6,7,8,9,10,11,12,13,14,15,16,17,18])"
   ]
  },
  {
   "cell_type": "code",
   "execution_count": 98,
   "metadata": {},
   "outputs": [
    {
     "data": {
      "text/html": [
       "<div>\n",
       "<style scoped>\n",
       "    .dataframe tbody tr th:only-of-type {\n",
       "        vertical-align: middle;\n",
       "    }\n",
       "\n",
       "    .dataframe tbody tr th {\n",
       "        vertical-align: top;\n",
       "    }\n",
       "\n",
       "    .dataframe thead th {\n",
       "        text-align: right;\n",
       "    }\n",
       "</style>\n",
       "<table border=\"1\" class=\"dataframe\">\n",
       "  <thead>\n",
       "    <tr style=\"text-align: right;\">\n",
       "      <th></th>\n",
       "      <th>ACTIVITY</th>\n",
       "      <th>RESULTANT</th>\n",
       "    </tr>\n",
       "  </thead>\n",
       "  <tbody>\n",
       "    <tr>\n",
       "      <th>0</th>\n",
       "      <td>1</td>\n",
       "      <td>4.04589</td>\n",
       "    </tr>\n",
       "    <tr>\n",
       "      <th>1</th>\n",
       "      <td>1</td>\n",
       "      <td>4.02048</td>\n",
       "    </tr>\n",
       "    <tr>\n",
       "      <th>2</th>\n",
       "      <td>1</td>\n",
       "      <td>3.78650</td>\n",
       "    </tr>\n",
       "    <tr>\n",
       "      <th>3</th>\n",
       "      <td>1</td>\n",
       "      <td>3.77595</td>\n",
       "    </tr>\n",
       "    <tr>\n",
       "      <th>4</th>\n",
       "      <td>1</td>\n",
       "      <td>3.54575</td>\n",
       "    </tr>\n",
       "    <tr>\n",
       "      <th>...</th>\n",
       "      <td>...</td>\n",
       "      <td>...</td>\n",
       "    </tr>\n",
       "    <tr>\n",
       "      <th>319</th>\n",
       "      <td>18</td>\n",
       "      <td>2.20318</td>\n",
       "    </tr>\n",
       "    <tr>\n",
       "      <th>320</th>\n",
       "      <td>18</td>\n",
       "      <td>2.45403</td>\n",
       "    </tr>\n",
       "    <tr>\n",
       "      <th>321</th>\n",
       "      <td>18</td>\n",
       "      <td>2.36863</td>\n",
       "    </tr>\n",
       "    <tr>\n",
       "      <th>322</th>\n",
       "      <td>18</td>\n",
       "      <td>2.48585</td>\n",
       "    </tr>\n",
       "    <tr>\n",
       "      <th>323</th>\n",
       "      <td>18</td>\n",
       "      <td>2.25202</td>\n",
       "    </tr>\n",
       "  </tbody>\n",
       "</table>\n",
       "<p>1299 rows × 2 columns</p>\n",
       "</div>"
      ],
      "text/plain": [
       "     ACTIVITY  RESULTANT\n",
       "0           1    4.04589\n",
       "1           1    4.02048\n",
       "2           1    3.78650\n",
       "3           1    3.77595\n",
       "4           1    3.54575\n",
       "..        ...        ...\n",
       "319        18    2.20318\n",
       "320        18    2.45403\n",
       "321        18    2.36863\n",
       "322        18    2.48585\n",
       "323        18    2.25202\n",
       "\n",
       "[1299 rows x 2 columns]"
      ]
     },
     "execution_count": 98,
     "metadata": {},
     "output_type": "execute_result"
    }
   ],
   "source": [
    "watch_gyro.replace(['A','B','C','D','E','F','G','H','I','J','K','L','M','O','P','Q','R','S']\n",
    "                      ,[1,2,3,4,5,6,7,8,9,10,11,12,13,14,15,16,17,18])"
   ]
  },
  {
   "cell_type": "code",
   "execution_count": 99,
   "metadata": {},
   "outputs": [],
   "source": [
    "biometrics = combined_data.replace(['A','B','C','D','E','F','G','H','I','J','K','L','M','O','P','Q','R','S']\n",
    "                      ,[1,2,3,4,5,6,7,8,9,10,11,12,13,14,15,16,17,18])\n"
   ]
  },
  {
   "cell_type": "code",
   "execution_count": 100,
   "metadata": {},
   "outputs": [],
   "source": [
    "from sklearn.datasets import make_blobs, make_moons\n",
    "from sklearn.cluster import KMeans, AgglomerativeClustering\n",
    "from sklearn import metrics\n",
    "from sklearn.metrics import silhouette_samples, silhouette_score\n",
    "from sklearn.neighbors import kneighbors_graph\n",
    "from scipy.cluster.hierarchy import dendrogram, linkage, fcluster\n",
    "from matplotlib.colors import ListedColormap\n",
    "import matplotlib.pyplot as plt\n",
    "import matplotlib.cm as cm\n",
    "import seaborn as sns\n",
    "from sklearn.metrics import homogeneity_score"
   ]
  },
  {
   "cell_type": "markdown",
   "metadata": {},
   "source": [
    "#### The graph produced below displays tasks with different colors based upon accelarant data categorizing different tasks into clusters"
   ]
  },
  {
   "cell_type": "code",
   "execution_count": 101,
   "metadata": {},
   "outputs": [],
   "source": [
    "X = biometrics.to_numpy()\n",
    "\n",
    "n_samples, n_features = combined_data.shape\n",
    "cmap = ListedColormap([\"#e41a1a\",\"#e46e1a\",\"#e0c74a\",\"#5bd9b3\",\"#5bd9d3\",\"#5bb1d9\",\"#1a42c7\",\"#585085\",\"#9779b5\",\"#c65dde\",\"#db51db\",\"#435234\",\"#17524e\",\"#1d0b2e\",\"#b36d75\",\"#82a884\",\"#b58f60\",\"#000000\"])"
   ]
  },
  {
   "cell_type": "code",
   "execution_count": 102,
   "metadata": {},
   "outputs": [
    {
     "data": {
      "text/plain": [
       "Text(0, 0.5, 'Accelerant Results')"
      ]
     },
     "execution_count": 102,
     "metadata": {},
     "output_type": "execute_result"
    },
    {
     "data": {
      "image/png": "[encoded data removed]",
      "text/plain": [
       "<Figure size 432x288 with 1 Axes>"
      ]
     },
     "metadata": {
      "needs_background": "light"
     },
     "output_type": "display_data"
    }
   ],
   "source": [
    "y_pred = KMeans(n_clusters=18, n_init=25, init='random', max_iter=15).fit_predict(X)\n",
    "\n",
    "plt.scatter(X[:, 0], X[:, 1], c=y_pred,  marker=\"o\", cmap=cmap)\n",
    "plt.title(\"Biometric Results\")\n",
    "plt.xlabel(\"Activity Clusters\")\n",
    "plt.ylabel(\"Accelerant Results\")\n",
    "\n"
   ]
  },
  {
   "cell_type": "markdown",
   "metadata": {},
   "source": [
    "#### The following slides will evaluate homogeneity score of the biometric data using the KMeans random model as well as the KMeans plus model"
   ]
  },
  {
   "cell_type": "code",
   "execution_count": 103,
   "metadata": {},
   "outputs": [],
   "source": [
    "kmeans_rand_model = KMeans(n_clusters=18, n_init=28, init='random').fit_predict(X)\n",
    "\n",
    "kmeans_plus_model = KMeans(n_clusters=18, n_init=28, init='k-means++').fit_predict(X)"
   ]
  },
  {
   "cell_type": "code",
   "execution_count": 104,
   "metadata": {},
   "outputs": [
    {
     "data": {
      "text/plain": [
       "array([ 1,  1,  1, ..., 18, 18, 18], dtype=int64)"
      ]
     },
     "execution_count": 104,
     "metadata": {},
     "output_type": "execute_result"
    }
   ],
   "source": [
    "y = biometrics[\"ACTIVITY\"]\n",
    "y.to_numpy()"
   ]
  },
  {
   "cell_type": "code",
   "execution_count": 105,
   "metadata": {},
   "outputs": [
    {
     "name": "stdout",
     "output_type": "stream",
     "text": [
      "                   method      homogeneity\n",
      "                k-means++     0.678 \n",
      "                   random     0.683 \n"
     ]
    }
   ],
   "source": [
    "print('% 25s' % 'method' +'      homogeneity')\n",
    "def compare_method(estimator, name, data):\n",
    "\n",
    "    estimator.fit(data)\n",
    "    print('% 25s     %.3f ' % (name, metrics.homogeneity_score(y, estimator.labels_)))\n",
    "\n",
    "method = KMeans(init='k-means++', n_clusters=18, n_init=25)\n",
    "compare_method(estimator=method, name=\"k-means++\", data=X)\n",
    "\n",
    "\n",
    "method = KMeans(init='random', n_clusters=18, n_init=25)\n",
    "compare_method(estimator=method, name=\"random\", data=X)\n"
   ]
  },
  {
   "cell_type": "code",
   "execution_count": null,
   "metadata": {},
   "outputs": [],
   "source": []
  }
 ],
 "metadata": {
  "kernelspec": {
   "display_name": "Python 3",
   "language": "python",
   "name": "python3"
  },
  "language_info": {
   "codemirror_mode": {
    "name": "ipython",
    "version": 3
   },
   "file_extension": ".py",
   "mimetype": "text/x-python",
   "name": "python",
   "nbconvert_exporter": "python",
   "pygments_lexer": "ipython3",
   "version": "3.7.6"
  }
 },
 "nbformat": 4,
 "nbformat_minor": 4
}
